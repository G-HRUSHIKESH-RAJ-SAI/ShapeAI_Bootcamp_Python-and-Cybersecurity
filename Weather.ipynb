{
  "nbformat": 4,
  "nbformat_minor": 0,
  "metadata": {
    "colab": {
      "name": "Weather.ipynb",
      "provenance": []
    },
    "kernelspec": {
      "name": "python3",
      "display_name": "Python 3"
    },
    "language_info": {
      "name": "python"
    }
  },
  "cells": [
    {
      "cell_type": "code",
      "metadata": {
        "id": "FIZQOlXK1w0O"
      },
      "source": [
        "import requests\n",
        "from datetime import datetime\n",
        "\n",
        "api_key = '9af3ff3484e1ef86e9999882929e3f97'\n",
        "location = input(\"Enter the city name: \")\n",
        "\n",
        "complete_api_link = \"https://api.openweathermap.org/data/2.5/weather?q=\"+location+\"&appid=\"+api_key\n",
        "api_link = requests.get(complete_api_link)\n",
        "api_data = api_link.json()\n",
        "\n",
        " #creating variables to store data\n",
        "temp_city = ((api_data['main']['temp']) - 273.15)\n",
        "weather_desc = api_data['weather'][0]['description']\n",
        "hmdt = api_data['main']['humidity']\n",
        "wind_spd = api_data['wind']['speed']\n",
        "date_time = datetime.now().strftime(\"%d %b %Y | %I:%M:%S %p\")\n",
        "\n",
        "file = open('output.txt',\"w\")\n",
        " #writing the output into output.txt file\n",
        "file.write('-----------------------------------------------------------------\\n')\n",
        "file.write('Weather Stats for  {}  on {}\\n'.format(location.upper(), date_time))\n",
        "file.write('-----------------------------------------------------------------\\n')\n",
        "file.write(' Current temperature         : {:.2f} deg C \\n'.format(temp_city))\n",
        "file.write(' Current weather description : {} \\n'.format(weather_desc))\n",
        "file.write(' Current Humidity            : {}% \\n'.format(hmdt))\n",
        "file.write(' Current wind speed          : {}kmph'.format(wind_spd))\n",
        "\n",
        "file.close()"
      ],
      "execution_count": null,
      "outputs": []
    }
  ]
}